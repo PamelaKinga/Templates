{
  "nbformat": 4,
  "nbformat_minor": 0,
  "metadata": {
    "colab": {
      "provenance": [],
      "collapsed_sections": [],
      "mount_file_id": "1SWJk3I6SNJRMP7-iAvg1DYACsIp4nox8",
      "authorship_tag": "ABX9TyNx3vUGXoUMsb/TyHDR2lXL",
      "include_colab_link": true
    },
    "kernelspec": {
      "name": "python3",
      "display_name": "Python 3"
    },
    "language_info": {
      "name": "python"
    }
  },
  "cells": [
    {
      "cell_type": "markdown",
      "metadata": {
        "id": "view-in-github",
        "colab_type": "text"
      },
      "source": [
        "<a href=\"https://colab.research.google.com/github/PamelaKinga/Templates/blob/main/Read_large_kaggle_data_into_collab_pyspark.ipynb\" target=\"_parent\"><img src=\"https://colab.research.google.com/assets/colab-badge.svg\" alt=\"Open In Colab\"/></a>"
      ]
    },
    {
      "cell_type": "markdown",
      "source": [
        "Title: Reading Large Kaggle Datasets With PySpark in Google Colab / Initialzing PySpark Google Colab"
      ],
      "metadata": {
        "id": "BGOQwj8A2oUw"
      }
    },
    {
      "cell_type": "markdown",
      "source": [
        "**Install Pyspark and use it remotely on Google Colabs with a few lines of code**\n",
        "\n",
        "\n",
        "Get data from Kaggle by inputting the following codes below \n",
        "\n",
        "**Description:**\n",
        "\n",
        "*   Installs the Kaggle library to be able to use the Kaggle API\n",
        "*   Creates a directory/folder called .kaggle in the root \n",
        "directory\n",
        "* Copies the kaggle.json saved in personal g-drive to the new directory created above. "
      ],
      "metadata": {
        "id": "HWCfmmcZ4xzq"
      }
    },
    {
      "cell_type": "code",
      "execution_count": 1,
      "metadata": {
        "colab": {
          "base_uri": "https://localhost:8080/"
        },
        "id": "okUfnSpDxc3p",
        "outputId": "63a14cab-906e-4cf0-d9a6-b18d891a31bb"
      },
      "outputs": [
        {
          "output_type": "stream",
          "name": "stdout",
          "text": [
            "Looking in indexes: https://pypi.org/simple, https://us-python.pkg.dev/colab-wheels/public/simple/\n",
            "Requirement already satisfied: kaggle in /usr/local/lib/python3.7/dist-packages (1.5.12)\n",
            "Requirement already satisfied: urllib3 in /usr/local/lib/python3.7/dist-packages (from kaggle) (1.24.3)\n",
            "Requirement already satisfied: six>=1.10 in /usr/local/lib/python3.7/dist-packages (from kaggle) (1.15.0)\n",
            "Requirement already satisfied: requests in /usr/local/lib/python3.7/dist-packages (from kaggle) (2.23.0)\n",
            "Requirement already satisfied: certifi in /usr/local/lib/python3.7/dist-packages (from kaggle) (2022.9.24)\n",
            "Requirement already satisfied: python-dateutil in /usr/local/lib/python3.7/dist-packages (from kaggle) (2.8.2)\n",
            "Requirement already satisfied: python-slugify in /usr/local/lib/python3.7/dist-packages (from kaggle) (6.1.2)\n",
            "Requirement already satisfied: tqdm in /usr/local/lib/python3.7/dist-packages (from kaggle) (4.64.1)\n",
            "Requirement already satisfied: text-unidecode>=1.3 in /usr/local/lib/python3.7/dist-packages (from python-slugify->kaggle) (1.3)\n",
            "Requirement already satisfied: idna<3,>=2.5 in /usr/local/lib/python3.7/dist-packages (from requests->kaggle) (2.10)\n",
            "Requirement already satisfied: chardet<4,>=3.0.2 in /usr/local/lib/python3.7/dist-packages (from requests->kaggle) (3.0.4)\n",
            "Downloading ecommerce-behavior-data-from-multi-category-store.zip to /content\n",
            "100% 4.28G/4.29G [00:29<00:00, 180MB/s]\n",
            "100% 4.29G/4.29G [00:29<00:00, 157MB/s]\n",
            "Archive:  ecommerce-behavior-data-from-multi-category-store.zip\n",
            "  inflating: 2019-Nov.csv            \n",
            "  inflating: 2019-Oct.csv            \n"
          ]
        }
      ],
      "source": [
        "! pip install kaggle\n",
        "! mkdir ~/.kaggle\n",
        "! cp /content/drive/MyDrive/kaggle.json ~/.kaggle/kaggle.json\n",
        "! kaggle datasets download -d mkechinov/ecommerce-behavior-data-from-multi-category-store\n",
        "! unzip ecommerce-behavior-data-from-multi-category-store.zip"
      ]
    },
    {
      "cell_type": "code",
      "source": [
        "! apt-get install openjdk-8-jdk-headless -qq > /dev/null\n",
        "! wget -q http://archive.apache.org/dist/spark/spark-3.1.1/spark-3.1.1-bin-hadoop3.2.tgz\n",
        "! tar xf spark-3.1.1-bin-hadoop3.2.tgz\n",
        "! pip install -q findspark"
      ],
      "metadata": {
        "id": "bHo4ipOdy9vZ"
      },
      "execution_count": 2,
      "outputs": []
    },
    {
      "cell_type": "code",
      "source": [
        "import os\n",
        "os.environ[\"JAVA_HOME\"] = \"/usr/lib/jvm/java-8-openjdk-amd64\"\n",
        "os.environ[\"SPARK_HOME\"] = \"/content/spark-3.1.1-bin-hadoop3.2\""
      ],
      "metadata": {
        "id": "AAzqxUcH2Hmf"
      },
      "execution_count": 3,
      "outputs": []
    },
    {
      "cell_type": "code",
      "source": [
        "import findspark\n",
        "findspark.init()\n",
        "from pyspark.sql import SparkSession\n",
        "spark = SparkSession.builder.master(\"local[*]\").getOrCreate()\n",
        "spark.conf.set(\"spark.sql.repl.eagerEval.enabled\", True) # Property used to format output tables better\n",
        "spark"
      ],
      "metadata": {
        "id": "PfloLIfg4Nua"
      },
      "execution_count": null,
      "outputs": []
    },
    {
      "cell_type": "code",
      "source": [
        "df = spark.read.csv('2019*.csv', header=True, sep=\",\")\n",
        "df.show(5)"
      ],
      "metadata": {
        "id": "xz4vvACx4Vii"
      },
      "execution_count": null,
      "outputs": []
    }
  ]
}